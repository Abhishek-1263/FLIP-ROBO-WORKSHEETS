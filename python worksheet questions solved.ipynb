{
 "cells": [
  {
   "cell_type": "markdown",
   "id": "ea434f28",
   "metadata": {},
   "source": [
    "# 11. Write a python program to find the factorial of a number."
   ]
  },
  {
   "cell_type": "code",
   "execution_count": 2,
   "id": "c51a09d5",
   "metadata": {},
   "outputs": [
    {
     "name": "stdout",
     "output_type": "stream",
     "text": [
      "Enter any number5\n",
      "The factorial of  5 is= 5\n",
      "The factorial of  5 is= 20\n",
      "The factorial of  5 is= 60\n",
      "The factorial of  5 is= 120\n",
      "The factorial of  5 is= 120\n"
     ]
    }
   ],
   "source": [
    "n=int(input(\"Enter any number\"))\n",
    "count=n\n",
    "fact=1\n",
    "while(count>=1):\n",
    "    fact=fact*count\n",
    "    count=count-1\n",
    "    print(\"The factorial of \",n,\"is=\",fact)"
   ]
  },
  {
   "cell_type": "markdown",
   "id": "6e0e6979",
   "metadata": {},
   "source": [
    "# 12. Write a python program to find whether a number is prime or composite."
   ]
  },
  {
   "cell_type": "code",
   "execution_count": 3,
   "id": "7a0de0f7",
   "metadata": {},
   "outputs": [
    {
     "name": "stdout",
     "output_type": "stream",
     "text": [
      "Enter any Integer Number8\n",
      "8 is a Composite Number\n"
     ]
    }
   ],
   "source": [
    "num=int(input(\"Enter any Integer Number\"))\n",
    "if(num>1):\n",
    "    for x in range(2,num):\n",
    "        if(num%x==0):\n",
    "            print(num,\"is a Composite Number\")\n",
    "            break\n",
    "    else:\n",
    "        print(num,\"is a Prime Number\")\n",
    "else:\n",
    "    print(num,\"is a Composite Number\")"
   ]
  },
  {
   "cell_type": "markdown",
   "id": "17ffe7c9",
   "metadata": {},
   "source": [
    "# 13. Write a python program to check whether a given string is palindrome or not."
   ]
  },
  {
   "cell_type": "code",
   "execution_count": 4,
   "id": "5b2f7258",
   "metadata": {},
   "outputs": [
    {
     "name": "stdout",
     "output_type": "stream",
     "text": [
      "Enter a Stringfliprobo\n",
      "fliprobo is not a Palindrome\n"
     ]
    }
   ],
   "source": [
    "string=input(\"Enter a String\")\n",
    "if(string==string[::-1]):\n",
    "    print(string,\"is a Palindrome\")\n",
    "else:\n",
    "    print(string,\"is not a Palindrome\")"
   ]
  },
  {
   "cell_type": "markdown",
   "id": "87311b27",
   "metadata": {},
   "source": [
    "# 14. Write a Python program to get the third side of right-angled triangle from two given sides."
   ]
  },
  {
   "cell_type": "code",
   "execution_count": 7,
   "id": "501fd570",
   "metadata": {},
   "outputs": [
    {
     "name": "stdout",
     "output_type": "stream",
     "text": [
      "Choose which side you want to calculate for a Right Angle Triangle\n",
      "Enter 1 for Hypotenuse\n",
      "Enter 2 for Adjecent Side\n",
      "Enter 3 for Opposide Side2\n",
      "Enter Hypotenuse\n",
      "25\n",
      "Enter Opposite Side\n",
      "20\n",
      "Adjecent side is 15.0\n"
     ]
    }
   ],
   "source": [
    "import math\n",
    "\n",
    "# define function\n",
    "def pythagoras(hypotenuse,a_side,b_side):\n",
    "    if(hypotenuse=='x'):\n",
    "        hypotenuse=math.sqrt((a_side **2)+(b_side**2))\n",
    "        print(\"Hypotenuse is\",hypotenuse)\n",
    "    elif(a_side=='x'):\n",
    "        a_side=math.sqrt((hypotenuse**2)-(b_side**2))\n",
    "        print(\"Adjecent side is\",a_side)\n",
    "    elif(b_side=='x'):\n",
    "        b_side=math.sqrt((hypotenuse**2)-(a_side**2))\n",
    "        print(\"Opposite side is\",b_side)\n",
    "\n",
    "#user input\n",
    "num=int(input(\"Choose which side you want to calculate for a Right Angle Triangle\\nEnter 1 for Hypotenuse\\nEnter 2 for Adjecent Side\\nEnter 3 for Opposide Side\"))\n",
    "if(num==1):\n",
    "    a_side=int(input(\"Enter Adjecent Side\\n\"))\n",
    "    b_side=int(input(\"Enter Opposite Side\\n\"))\n",
    "    pythagoras('x',a_side,b_side)\n",
    "elif(num==2):\n",
    "    hypotenuse=int(input(\"Enter Hypotenuse\\n\"))\n",
    "    b_side=int(input(\"Enter Opposite Side\\n\"))\n",
    "    pythagoras(hypotenuse,'x',b_side)\n",
    "elif(num==3):\n",
    "    a_side=int(input(\"Enter Adjecent Side\\n\"))\n",
    "    hypotenuse=int(input(\"Enter Hypotenuse\\n\"))\n",
    "    pythagoras(hypotenuse,a_side,'x')\n",
    "else:\n",
    "    print(\"You entered a wrong input.. please try again\\n\")"
   ]
  },
  {
   "cell_type": "markdown",
   "id": "7c8d13a0",
   "metadata": {},
   "source": [
    "# 15. Write a python program to print the frequency of each of the characters present in a given string."
   ]
  },
  {
   "cell_type": "code",
   "execution_count": 8,
   "id": "1454dbbd",
   "metadata": {},
   "outputs": [
    {
     "name": "stdout",
     "output_type": "stream",
     "text": [
      "Enter any String\n",
      "professionals\n",
      "p   1\n",
      "r   1\n",
      "o   2\n",
      "f   1\n",
      "e   1\n",
      "s   3\n",
      "i   1\n",
      "n   1\n",
      "a   1\n",
      "l   1\n"
     ]
    }
   ],
   "source": [
    "string=input(\"Enter any String\\n\")\n",
    "string_len=len(string)\n",
    "freq=[]\n",
    "for i in range(0,string_len):\n",
    "    freq.append(1)\n",
    "    temp=string[i]\n",
    "    for j in range(i+1, string_len):\n",
    "        if(temp==string[j]):\n",
    "            freq[i]=freq[i]+1\n",
    "            string=string[:j]+'0'+string[j+1:]\n",
    "    if(string[i]!=' ' and string[i]!='0'):  \n",
    "        print(string[i],\" \",freq[i])"
   ]
  },
  {
   "cell_type": "code",
   "execution_count": null,
   "id": "8cbb299d",
   "metadata": {},
   "outputs": [],
   "source": []
  }
 ],
 "metadata": {
  "kernelspec": {
   "display_name": "Python 3 (ipykernel)",
   "language": "python",
   "name": "python3"
  },
  "language_info": {
   "codemirror_mode": {
    "name": "ipython",
    "version": 3
   },
   "file_extension": ".py",
   "mimetype": "text/x-python",
   "name": "python",
   "nbconvert_exporter": "python",
   "pygments_lexer": "ipython3",
   "version": "3.9.13"
  }
 },
 "nbformat": 4,
 "nbformat_minor": 5
}
